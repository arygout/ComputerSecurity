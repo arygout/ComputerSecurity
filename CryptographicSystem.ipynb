{
 "cells": [
  {
   "cell_type": "code",
   "execution_count": 486,
   "metadata": {},
   "outputs": [],
   "source": [
    "#Imports\n",
    "import numpy as np\n",
    "import os\n",
    "import base64\n",
    "import hashlib\n",
    "import bcrypt"
   ]
  },
  {
   "cell_type": "code",
   "execution_count": null,
   "metadata": {},
   "outputs": [],
   "source": []
  },
  {
   "cell_type": "code",
   "execution_count": 494,
   "metadata": {},
   "outputs": [],
   "source": [
    "#Admin account comes pre-installed on the database. This is how clearances and accounts are initially edited.\n",
    "#Admin password is hashed, then the cleartext password is removed from memory \n",
    "#and the hashed password, along with the salt used to hash it, are stored in the database.\n",
    "#Admin is the only account with a clearance of 5. They are the only person who can create accounts with clearances of 4.\n",
    "adminSalt = bcrypt.gensalt()\n",
    "adminPassword = \"adminPassword\"\n",
    "adminHash = bcrypt.hashpw(adminPassword.encode(), adminSalt)\n",
    "adminPassword = \"\"\n",
    "\n",
    "database = {\n",
    "    \"admin\": [adminHash,adminSalt,5]\n",
    "}\n",
    "\n",
    "\n",
    "#This implementation is code for the database computer not the user's computer.\n",
    "#Encrypting passwords before sending them over the network using a Diffie-Helman key exchange and symmetric key \n",
    "#encryption is a necessary part of the security of the system.\n",
    "#However, these methods assume that the password has already been encrypted, sent over, and decrypted.\n",
    "\n",
    "#Method to add a user\n",
    "def addUser(username, password, clearance):\n",
    "     \n",
    "    if(type(clearance) == int):#User input validation. Ensures that clearance is an int.\n",
    "        if(username in database.keys()):#Checks to make sure the requested username does not already exist\n",
    "            print(\"Username already taken by another user. Please choose a different username.\")\n",
    "        elif(clearance > 4 or clearance < 1): #Ensures that the requested clearance is a valid clearance level.\n",
    "            print(\"The requested clearance must be greater than 0 and less than 5\")\n",
    "        else:\n",
    "            for entry in database:\n",
    "                if(database[entry][2] > clearance):\n",
    "                    print(entry + \", would you like to set \" + username + \"'s clearance level? They requested a clearance of \" + str(clearance) + \".\")\n",
    "                    #Sends a message to all users whose clearance is greater than the requested clearance. \n",
    "                    #Print is analogous to sending a message.\n",
    "            salt = bcrypt.gensalt()\n",
    "            hashEntry = bcrypt.hashpw(password.encode(),salt)\n",
    "            database[username] = [hashEntry,salt,0]\n",
    "            #Generates a salt, adds it to the password, and stores both the salt and the hashed password in the database.\n",
    "            return True #Returns True if successful.\n",
    "    else:\n",
    "        print(\"Please request an integer clearance greater than 0 and less than 5.\")\n",
    "    return False #Returns False if unsuccessful.\n",
    "\n",
    "#Method to authenticate a user. Returns their clearance level if the username and password are correct.\n",
    "#Returns -1 if the username and password are not correct.\n",
    "#Used in many of the other functions\n",
    "def login(username, password):\n",
    "    #Checks to make sure that your username actually exists.\n",
    "    #Also authenticates the user by getting taking the password the entered, adding the salt, hashing that and \n",
    "    #comparing it to the hash stored in the databse.\n",
    "    if(username in database.keys() and database[username][0] == bcrypt.hashpw(password.encode(),database[username][1])):\n",
    "        return database[username][2] # Returns clearance level if the username and password are correct.\n",
    "    else:\n",
    "        print(\"Incorrect username or password.\")\n",
    "        return -1 # Returns -1 if the username and password are not correct.\n",
    "\n",
    "#Method to change the clearance level of a user.\n",
    "def changeClearanceLevel(myUsername, myPassword, theirUsername, theirNewClearance):\n",
    "    if(theirUsername in database.keys()):#Checks to make sure that the user whose clearance you are trying to change actually exists\n",
    "        myClearance = login(myUsername, myPassword)\n",
    "        if(myClearance > -1):#Account is invalid if clearance returned is -1. Error message comes from login method.\n",
    "            #User input validation: Checks to make sure that the new clearance you wish to assign to them is an integer\n",
    "            #Also does not allow you to assign a clearance greater than or equal to your own.\n",
    "            if(theirNewClearance >= 0 and theirNewClearance < myClearance and type(theirNewClearance) == int):\n",
    "                database[theirUsername][2] = theirNewClearance\n",
    "                return True #Returns True if successful.\n",
    "            else: \n",
    "                print(\"Please select an integer clearance for the other user that is greater than -1 and less than \" + str(myClearance) + \".\")\n",
    "    else:\n",
    "        print(\"The user whose clearance you wish to change does not exist.\")\n",
    "    return False #Returns False if unsuccessful.\n",
    "\n",
    "#Method to delete an account. Only usable by the admin.\n",
    "def deleteUser(adminUsername, adminPassword, employeeUsername):\n",
    "    #Authenticates the admin using login and checks the clearance level to veryify it is the admin. \n",
    "    #Also makes sure that the clearance level of the employee is not 5.\n",
    "    #This means that the admin cannot accidentally delete their own account.\n",
    "    if(login(adminUsername,adminPassword) == 5 and database[employeeUsername][2] < 5):\n",
    "        del database[employeeUsername]\n",
    "        return True #Returns True if successful.\n",
    "    else:\n",
    "        print(\"You do not have permission to delete this account.\")\n",
    "        return False #Returns False if unsuccessful.\n",
    "\n",
    "#Function that lets users use addition, subtraction, and multiplication on integers depending upon their clearance level.\n",
    "def intArithmetic(username, password, operation, n1, n2):\n",
    "    #User input validation: Checks to make sure that the two numbers entered are integers\n",
    "    if(type(n1) == int and type(n1) == int):\n",
    "        allOperations = [\"+\",\"-\",\"*\"]\n",
    "        #User input validation: Checks to make sure that the entered operation is a valid arithmetic operation.\n",
    "        if(operation in allOperations):\n",
    "            \n",
    "            #Checks to make sure the username exists\n",
    "            myClearance = login(username,password)\n",
    "            if(myClearance > -1):#Account is invalid if clearance returned is -1. Error message comes from login method.\n",
    "                requiredClearance = allOperations.index(operation) + 1#Gets the required clearance for the selected operation.\n",
    "                if(myClearance >= requiredClearance): #Checks to make sure that you have the required clearance for a certain operation.\n",
    "                    print(\"you have the required clearance for this\")\n",
    "                    #All inputs to eval have been checked. \n",
    "                    #Operation was validated earlier. n1 and n2 were confirmed as ints earlier.\n",
    "                    #This means that we can cast them to a string and have eval do the math for us with the operation.\n",
    "                    #If eval would fail because of inputs, the method would not reach this point in the code.\n",
    "                    return eval(str(n1) + operation + str(n2))\n",
    "                else:\n",
    "                    print(\"You do not have the required clearance for this.\")\n",
    "        else: \n",
    "            print(\"The requested operation does not exist. Please choose '+', '-', or '*' \")\n",
    "    else: \n",
    "        print(\"Please choose integer numbers to operate on.\")\n",
    "        \n",
    "    #Returns this negative float upon failure.\n",
    "    #Known error value because it cannot be reached with addition subtraction and multiplication of integers.\n",
    "    return -10e-8  \n",
    "    "
   ]
  },
  {
   "cell_type": "code",
   "execution_count": 495,
   "metadata": {},
   "outputs": [
    {
     "name": "stdout",
     "output_type": "stream",
     "text": [
      "admin, would you like to set userA's clearance level? They requested a clearance of 2.\n"
     ]
    },
    {
     "data": {
      "text/plain": [
       "True"
      ]
     },
     "execution_count": 495,
     "metadata": {},
     "output_type": "execute_result"
    }
   ],
   "source": [
    "addUser(\"userA\",\"password\",2)"
   ]
  },
  {
   "cell_type": "code",
   "execution_count": 496,
   "metadata": {},
   "outputs": [
    {
     "data": {
      "text/plain": [
       "True"
      ]
     },
     "execution_count": 496,
     "metadata": {},
     "output_type": "execute_result"
    }
   ],
   "source": [
    "changeClearanceLevel(\"admin\",\"adminPassword\",\"userA\",2)"
   ]
  },
  {
   "cell_type": "code",
   "execution_count": 502,
   "metadata": {},
   "outputs": [
    {
     "name": "stdout",
     "output_type": "stream",
     "text": [
      "you have the required clearance for this\n"
     ]
    },
    {
     "data": {
      "text/plain": [
       "8"
      ]
     },
     "execution_count": 502,
     "metadata": {},
     "output_type": "execute_result"
    }
   ],
   "source": [
    "intArithmetic(\"userA\",\"password\",\"+\",3,5)"
   ]
  },
  {
   "cell_type": "code",
   "execution_count": 498,
   "metadata": {},
   "outputs": [
    {
     "data": {
      "text/plain": [
       "5"
      ]
     },
     "execution_count": 498,
     "metadata": {},
     "output_type": "execute_result"
    }
   ],
   "source": [
    "login(\"admin\",\"adminPassword\")"
   ]
  },
  {
   "cell_type": "code",
   "execution_count": 499,
   "metadata": {},
   "outputs": [
    {
     "data": {
      "text/plain": [
       "{'admin': [b'$2b$12$qQXlHnrsKcs//cGUnSi86.y5mr7seVth2LcR5Al1xUvKhrsndFY3u',\n",
       "  b'$2b$12$qQXlHnrsKcs//cGUnSi86.',\n",
       "  5],\n",
       " 'userA': [b'$2b$12$bn3QkymxmPgpp44sTVyOfOUdCs5xnOdNvD4PhqHKQGphtE1qLOFDm',\n",
       "  b'$2b$12$bn3QkymxmPgpp44sTVyOfO',\n",
       "  2]}"
      ]
     },
     "execution_count": 499,
     "metadata": {},
     "output_type": "execute_result"
    }
   ],
   "source": [
    "database"
   ]
  },
  {
   "cell_type": "code",
   "execution_count": null,
   "metadata": {},
   "outputs": [],
   "source": []
  },
  {
   "cell_type": "code",
   "execution_count": null,
   "metadata": {},
   "outputs": [],
   "source": []
  }
 ],
 "metadata": {
  "kernelspec": {
   "display_name": "Python 3",
   "language": "python",
   "name": "python3"
  },
  "language_info": {
   "codemirror_mode": {
    "name": "ipython",
    "version": 3
   },
   "file_extension": ".py",
   "mimetype": "text/x-python",
   "name": "python",
   "nbconvert_exporter": "python",
   "pygments_lexer": "ipython3",
   "version": "3.7.0"
  }
 },
 "nbformat": 4,
 "nbformat_minor": 2
}

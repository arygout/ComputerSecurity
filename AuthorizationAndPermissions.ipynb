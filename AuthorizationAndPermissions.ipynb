{
 "cells": [
  {
   "cell_type": "code",
   "execution_count": 61,
   "metadata": {},
   "outputs": [],
   "source": [
    "import numpy as np\n",
    "import os\n",
    "import glob\n",
    "import re"
   ]
  },
  {
   "cell_type": "markdown",
   "metadata": {},
   "source": [
    "### Searches all files two up to two levels below myDir and checks if "
   ]
  },
  {
   "cell_type": "code",
   "execution_count": 251,
   "metadata": {},
   "outputs": [
    {
     "name": "stdout",
     "output_type": "stream",
     "text": [
      "/Users/Shared/AdobeInstalledCodecs\n",
      "/Users/Shared/SC Info\n",
      "/Users/Shared/adi\n"
     ]
    }
   ],
   "source": [
    "myDir = \"/Users/\"\n",
    "\n",
    "for file in os.listdir(myDir):\n",
    "    filePermissions = os.popen(\"ls -l \" + myDir+file).read()\n",
    "    newLines = [i for i, letter in enumerate(filePermissions) if letter == \"\\n\"]\n",
    "    for i in range(len(newLines)-1):\n",
    "        if(filePermissions[newLines[i]+6] == 'w' ||):\n",
    "            print(myDir+file+\"/\"+filePermissions[newLines[i]:newLines[i+1]][filePermissions[newLines[i]:newLines[i+1]].rfind(\":\")+4:])"
   ]
  },
  {
   "cell_type": "markdown",
   "metadata": {},
   "source": [
    "### Recursively searches all files below myDir"
   ]
  },
  {
   "cell_type": "code",
   "execution_count": null,
   "metadata": {},
   "outputs": [
    {
     "name": "stdout",
     "output_type": "stream",
     "text": [
      "-rwxrwxrwx  1 arygout  staff  129859584 Sep 19 15:11 /Users/arygout/Documents/aaStuff/RoboticCarDesignMovie/00282.MTS\n",
      "\n",
      "-rwxrwxrwx  1 arygout  staff  58982400 Sep 27 21:04 /Users/arygout/Documents/aaStuff/RoboticCarDesignMovie/00492.MTS\n",
      "\n",
      "-rwxrwxrwx  1 arygout  staff  13664256 Sep 27 21:11 /Users/arygout/Documents/aaStuff/RoboticCarDesignMovie/00493.MTS\n",
      "\n",
      "-rwxrwxrwx  1 arygout  staff  108331008 Sep 15 22:31 /Users/arygout/Documents/aaStuff/RoboticCarDesignMovie/00252.MTS\n",
      "\n",
      "-rwxrwxrwx  1 arygout  staff  131530752 Sep 27 20:26 /Users/arygout/Documents/aaStuff/RoboticCarDesignMovie/00483.MTS\n",
      "\n",
      "-rwxrwxrwx  1 arygout  staff  27820032 Sep 27 20:06 /Users/arygout/Documents/aaStuff/RoboticCarDesignMovie/00468.MTS\n",
      "\n",
      "-rwxrwxrwx  1 arygout  staff  19660800 Sep 27 21:19 /Users/arygout/Documents/aaStuff/RoboticCarDesignMovie/00494.MTS\n",
      "\n",
      "-rwxrwxrwx  1 arygout  staff  88080384 Sep 23 10:35 /Users/arygout/Documents/aaStuff/RoboticCarDesignMovie/00394.MTS\n",
      "\n",
      "-rwxrwxrwx  1 arygout  staff  24969216 Sep 23 11:10 /Users/arygout/Documents/aaStuff/RoboticCarDesignMovie/00418.MTS\n",
      "\n",
      "-rwxrwxrwx  1 arygout  staff  187465728 Sep 21 19:28 /Users/arygout/Documents/aaStuff/RoboticCarDesignMovie/00368.MTS\n",
      "\n",
      "-rwxrwxrwx  1 arygout  staff  31064064 Sep 23 10:38 /Users/arygout/Documents/aaStuff/RoboticCarDesignMovie/00396.MTS\n",
      "\n",
      "-rwxrwxrwx  1 arygout  staff  96927744 Sep 22 11:26 /Users/arygout/Documents/aaStuff/RoboticCarDesignMovie/00386.MTS\n",
      "\n",
      "-rwxrwxrwx  1 arygout  staff  26640384 Sep 23 12:36 /Users/arygout/Documents/aaStuff/RoboticCarDesignMovie/00420.MTS\n",
      "\n",
      "-rwxrwxrwx  1 arygout  staff  169869312 Sep 21 19:47 /Users/arygout/Documents/aaStuff/RoboticCarDesignMovie/00384.MTS\n",
      "\n",
      "-rwxrwxrwx  1 arygout  staff  51118080 Sep 23 11:06 /Users/arygout/Documents/aaStuff/RoboticCarDesignMovie/00410.MTS\n",
      "\n",
      "-rwxrwxrwx  1 arygout  staff  117866496 Sep 23 10:44 /Users/arygout/Documents/aaStuff/RoboticCarDesignMovie/00398.MTS\n",
      "\n",
      "-rwxrwxrwx  1 arygout  staff  13565952 Sep 21 18:56 /Users/arygout/Documents/aaStuff/RoboticCarDesignMovie/00314.MTS\n",
      "\n",
      "-rwxrwxrwx  1 arygout  staff  74711040 Sep 27 22:00 /Users/arygout/Documents/aaStuff/RoboticCarDesignMovie/00499.MTS\n",
      "\n",
      "-rwxrwxrwx  1 arygout  staff  91422720 Sep 19 15:23 /Users/arygout/Documents/aaStuff/RoboticCarDesignMovie/00289.MTS\n",
      "\n",
      "-rwxrwxrwx  1 arygout  staff  11698176 Sep 27 20:00 /Users/arygout/Documents/aaStuff/RoboticCarDesignMovie/00464.MTS\n",
      "\n",
      "-rwxrwxrwx  1 arygout  staff  86802432 Sep 19 15:40 /Users/arygout/Documents/aaStuff/RoboticCarDesignMovie/00303.MTS\n",
      "\n",
      "-rwxrwxrwx  1 arygout  staff  95551488 Sep 15 22:43 /Users/arygout/Documents/aaStuff/RoboticCarDesignMovie/00263.MTS\n",
      "\n",
      "-rwxrwxrwx  1 arygout  staff  24477696 Sep 21 18:06 /Users/arygout/Documents/aaStuff/RoboticCarDesignMovie/00312.MTS\n",
      "\n",
      "-rwxrwxrwx  1 arygout  staff  19070976 Sep 27 22:03 /Users/arygout/Documents/aaStuff/RoboticCarDesignMovie/00500.MTS\n",
      "\n",
      "-rwxrwxrwx  1 arygout  staff  114130944 Sep 15 22:54 /Users/arygout/Documents/aaStuff/RoboticCarDesignMovie/00270.MTS\n",
      "\n",
      "-rwxrwxrwx  1 arygout  staff  26738688 Sep 27 20:29 /Users/arygout/Documents/aaStuff/RoboticCarDesignMovie/00489.MTS\n",
      "\n",
      "-rwxrwxrwx  1 arygout  staff  31064064 Sep 22 22:01 /Users/arygout/Documents/aaStuff/RoboticCarDesignMovie/00310.MTS\n",
      "\n",
      "-rwxrwxrwx  1 arygout  staff  26738688 Sep 27 20:13 /Users/arygout/Documents/aaStuff/RoboticCarDesignMovie/00476.MTS\n",
      "\n",
      "-rwxrwxrwx@ 1 arygout  staff  29884416 Sep 27 19:53 /Users/arygout/Documents/aaStuff/RoboticCarDesignMovie/00463.MTS\n",
      "\n",
      "-rwxrwxrwx  1 arygout  staff  30375936 Sep 24 19:22 /Users/arygout/Documents/aaStuff/RoboticCarDesignMovie/BuildingTheRobot/00452.MTS\n",
      "\n",
      "-rwxrwxrwx  1 arygout  staff  42663936 Sep 24 19:16 /Users/arygout/Documents/aaStuff/RoboticCarDesignMovie/BuildingTheRobot/00451.MTS\n",
      "\n",
      "-rwxrwxrwx  1 arygout  staff  162299904 Sep 24 19:09 /Users/arygout/Documents/aaStuff/RoboticCarDesignMovie/BuildingTheRobot/00450.MTS\n",
      "\n",
      "-rwxrwxrwx  1 arygout  staff  85819392 Sep 23 13:06 /Users/arygout/Documents/aaStuff/RoboticCarDesignMovie/BuildingTheRobot/00441.MTS\n",
      "\n",
      "-rwxrwxrwx  1 arygout  staff  18284544 Sep 24 19:28 /Users/arygout/Documents/aaStuff/RoboticCarDesignMovie/BuildingTheRobot/00456.MTS\n",
      "\n",
      "-rwxrwxrwx  1 arygout  staff  32833536 Sep 23 12:48 /Users/arygout/Documents/aaStuff/RoboticCarDesignMovie/BuildingTheRobot/00437.MTS\n",
      "\n",
      "-rwxrwxrwx  1 arygout  staff  159744000 Sep 23 13:01 /Users/arygout/Documents/aaStuff/RoboticCarDesignMovie/BuildingTheRobot/00438.MTS\n",
      "\n",
      "-rwxrwxrwx  1 arygout  staff  36962304 Sep 23 13:02 /Users/arygout/Documents/aaStuff/RoboticCarDesignMovie/BuildingTheRobot/00439.MTS\n",
      "\n",
      "-rwxrwxrwx@ 1 arygout  staff  33226752 Oct  6 21:44 /Users/arygout/Documents/aaStuff/Nerf/ModulusVideos/SolenoidModulusFiring.MTS\n",
      "\n",
      "-rw-rw-rw-  1 arygout  staff  24 Oct 13 23:41 /Users/arygout/Documents/Adobe/Lumetri/9.0/settings/User_Settings.xml\n",
      "\n",
      "-rw-rw-rw-  1 arygout  staff  889 Oct 13 23:41 /Users/arygout/Documents/Adobe/Lumetri/9.0/logs/Lumetri.log\n",
      "\n"
     ]
    }
   ],
   "source": [
    "#Recursively searches through all files and checks if the permissions for \n",
    "\n",
    "myDir = \"/Users/arygout/Documents/\"\n",
    "\n",
    "for subdir,dirs,files in os.walk(myDir):\n",
    "    for file in files:\n",
    "        filePermissions = os.popen(\"ls -l \" + os.path.join(subdir,file)).read()\n",
    "        if(len(filePermissions) < 1):\n",
    "            continue\n",
    "        #newLines = [i for i, letter in enumerate(filePermissions) if letter == \"\\n\"]\n",
    "        #for i in range(len(newLines)-1):\n",
    "        if(filePermissions[5] == 'w' or filePermissions[8] == 'w'):\n",
    "            print(filePermissions)"
   ]
  },
  {
   "cell_type": "markdown",
   "metadata": {},
   "source": [
    "# Test code"
   ]
  },
  {
   "cell_type": "code",
   "execution_count": 243,
   "metadata": {},
   "outputs": [
    {
     "data": {
      "text/plain": [
       "'/Users/arygout/Documents/y'"
      ]
     },
     "execution_count": 243,
     "metadata": {},
     "output_type": "execute_result"
    }
   ],
   "source": [
    "os.path.join(myDir,file)"
   ]
  },
  {
   "cell_type": "code",
   "execution_count": 128,
   "metadata": {},
   "outputs": [
    {
     "data": {
      "text/plain": [
       "[9, 84, 147, 211, 266, 333, 396]"
      ]
     },
     "execution_count": 128,
     "metadata": {},
     "output_type": "execute_result"
    }
   ],
   "source": [
    "#filePermissions[newLines[i]:newLines[i+1]] #prints the whole output of ls-l"
   ]
  },
  {
   "cell_type": "code",
   "execution_count": 188,
   "metadata": {},
   "outputs": [
    {
     "data": {
      "text/plain": [
       "'-rw-r--r--  1 arygout  staff  41 Oct 16 20:02 /Users/arygout/Documents/ComputerSecurity/.git/refs/remotes/origin/master\\n'"
      ]
     },
     "execution_count": 188,
     "metadata": {},
     "output_type": "execute_result"
    }
   ],
   "source": [
    "os.popen(\"ls -l \" + os.path.join(subdir,file)).read()"
   ]
  },
  {
   "cell_type": "code",
   "execution_count": 191,
   "metadata": {},
   "outputs": [],
   "source": [
    "newLines = [i for i, letter in enumerate(filePermissions) if letter == \"\\n\"]"
   ]
  },
  {
   "cell_type": "code",
   "execution_count": 232,
   "metadata": {},
   "outputs": [
    {
     "data": {
      "text/plain": [
       "'-rw-r--r--  1 arygout  staff  41 Oct 16 20:02 /Users/arygout/Documents/ComputerSecurity/.git/refs/remotes/origin/master\\n'"
      ]
     },
     "execution_count": 232,
     "metadata": {},
     "output_type": "execute_result"
    }
   ],
   "source": [
    "filePermissions"
   ]
  },
  {
   "cell_type": "code",
   "execution_count": 215,
   "metadata": {},
   "outputs": [
    {
     "data": {
      "text/plain": [
       "''"
      ]
     },
     "execution_count": 215,
     "metadata": {},
     "output_type": "execute_result"
    }
   ],
   "source": [
    "os.popen(\"ls -l \" + os.path.join(subdir,file)).read()"
   ]
  },
  {
   "cell_type": "code",
   "execution_count": 216,
   "metadata": {},
   "outputs": [
    {
     "data": {
      "text/plain": [
       "'/Users/arygout/Documents/aaStuff/AryaGoutamPeninsulaBridgeHours2018 (Autosaved).xlsx'"
      ]
     },
     "execution_count": 216,
     "metadata": {},
     "output_type": "execute_result"
    }
   ],
   "source": [
    "os.path.join(subdir,file)"
   ]
  },
  {
   "cell_type": "code",
   "execution_count": 160,
   "metadata": {},
   "outputs": [],
   "source": [
    "#myDir+file+\"/\"+filePermissions[newLines[i]:newLines[i+1]][filePermissions[newLines[i]:newLines[i+1]].rfind(\":\")+4:] #prints the filename and directory"
   ]
  },
  {
   "cell_type": "code",
   "execution_count": 129,
   "metadata": {},
   "outputs": [
    {
     "data": {
      "text/plain": [
       "84"
      ]
     },
     "execution_count": 129,
     "metadata": {},
     "output_type": "execute_result"
    }
   ],
   "source": [
    "len(filePermissions)"
   ]
  },
  {
   "cell_type": "code",
   "execution_count": 127,
   "metadata": {},
   "outputs": [
    {
     "data": {
      "text/plain": [
       "84"
      ]
     },
     "execution_count": 127,
     "metadata": {},
     "output_type": "execute_result"
    }
   ],
   "source": [
    "len(filePermissions)"
   ]
  },
  {
   "cell_type": "code",
   "execution_count": 126,
   "metadata": {},
   "outputs": [
    {
     "data": {
      "text/plain": [
       "84"
      ]
     },
     "execution_count": 126,
     "metadata": {},
     "output_type": "execute_result"
    }
   ],
   "source": [
    "newLines[i]"
   ]
  },
  {
   "cell_type": "code",
   "execution_count": 42,
   "metadata": {},
   "outputs": [],
   "source": [
    "string = os.popen(\"ls -l \" + myDir+file).read()"
   ]
  },
  {
   "cell_type": "code",
   "execution_count": 65,
   "metadata": {},
   "outputs": [
    {
     "data": {
      "text/plain": [
       "'total 104\\n-rw-r--r--  1 arygout  staff  11549 Oct 16 19:53 CryptographicSystem.ipynb\\n-rw-r--r--  1 arygout  staff   8635 Oct 16 14:01 Hashing.ipynb\\n-rw-r--r--  1 arygout  staff   7611 Oct 30 17:51 Untitled.ipynb\\n-rwxr-xr-x  1 arygout  staff   8632 Sep 14 14:26 a.out\\n-rw-r--r--@ 1 arygout  staff    870 Sep 20 14:27 buffer_overflow.c\\n-rw-r--r--@ 1 arygout  staff   1504 Sep 13 14:48 comments.html\\n'"
      ]
     },
     "execution_count": 65,
     "metadata": {},
     "output_type": "execute_result"
    }
   ],
   "source": [
    "string"
   ]
  },
  {
   "cell_type": "code",
   "execution_count": 77,
   "metadata": {},
   "outputs": [
    {
     "data": {
      "text/plain": [
       "False"
      ]
     },
     "execution_count": 77,
     "metadata": {},
     "output_type": "execute_result"
    }
   ],
   "source": [
    "string[string.find(\"\\n\")+6] == \"w\""
   ]
  },
  {
   "cell_type": "code",
   "execution_count": 103,
   "metadata": {},
   "outputs": [],
   "source": [
    "newLines = [i for i, letter in enumerate(string) if letter == \"\\n\"]"
   ]
  },
  {
   "cell_type": "code",
   "execution_count": 104,
   "metadata": {},
   "outputs": [
    {
     "data": {
      "text/plain": [
       "[9, 84, 147, 211, 266, 333, 396]"
      ]
     },
     "execution_count": 104,
     "metadata": {},
     "output_type": "execute_result"
    }
   ],
   "source": [
    "newLines"
   ]
  },
  {
   "cell_type": "code",
   "execution_count": 119,
   "metadata": {},
   "outputs": [
    {
     "name": "stdout",
     "output_type": "stream",
     "text": [
      "CryptographicSystem.ipynb\n",
      "Hashing.ipynb\n",
      "Untitled.ipynb\n",
      "a.out\n",
      "buffer_overflow.c\n",
      "comments.html\n"
     ]
    }
   ],
   "source": [
    "for i in range(len(newLines)-1):\n",
    "    if(string[newLines[i]+6] == '-'):\n",
    "        print(string[newLines[i]:newLines[i+1]][50:])"
   ]
  },
  {
   "cell_type": "code",
   "execution_count": 131,
   "metadata": {},
   "outputs": [
    {
     "data": {
      "text/plain": [
       "'total 104\\n-rw-r--r--  1 arygout  staff  11549 Oct 16 19:53 CryptographicSystem.ipynb\\n-rw-r--r--  1 arygout  staff   8635 Oct 16 14:01 Hashing.ipynb\\n-rw-r--r--  1 arygout  staff   7611 Oct 30 17:51 Untitled.ipynb\\n-rwxr-xr-x  1 arygout  staff   8632 Sep 14 14:26 a.out\\n-rw-r--r--@ 1 arygout  staff    870 Sep 20 14:27 buffer_overflow.c\\n-rw-r--r--@ 1 arygout  staff   1504 Sep 13 14:48 comments.html\\n'"
      ]
     },
     "execution_count": 131,
     "metadata": {},
     "output_type": "execute_result"
    }
   ],
   "source": [
    "string"
   ]
  },
  {
   "cell_type": "code",
   "execution_count": 141,
   "metadata": {},
   "outputs": [
    {
     "data": {
      "text/plain": [
       "' comments.html'"
      ]
     },
     "execution_count": 141,
     "metadata": {},
     "output_type": "execute_result"
    }
   ],
   "source": [
    "string[newLines[i]:newLines[i+1]][string[newLines[i]:newLines[i+1]].rfind(\" \"):]"
   ]
  },
  {
   "cell_type": "code",
   "execution_count": 134,
   "metadata": {},
   "outputs": [
    {
     "data": {
      "text/plain": [
       "'\\n-rw-r--r--@ 1 arygout  staff   1504 Sep 13 14:48 comments.html'"
      ]
     },
     "execution_count": 134,
     "metadata": {},
     "output_type": "execute_result"
    }
   ],
   "source": [
    "string[newLines[i]:newLines[i+1]]"
   ]
  },
  {
   "cell_type": "code",
   "execution_count": null,
   "metadata": {},
   "outputs": [],
   "source": []
  }
 ],
 "metadata": {
  "kernelspec": {
   "display_name": "Python 3",
   "language": "python",
   "name": "python3"
  },
  "language_info": {
   "codemirror_mode": {
    "name": "ipython",
    "version": 3
   },
   "file_extension": ".py",
   "mimetype": "text/x-python",
   "name": "python",
   "nbconvert_exporter": "python",
   "pygments_lexer": "ipython3",
   "version": "3.7.0"
  }
 },
 "nbformat": 4,
 "nbformat_minor": 2
}
